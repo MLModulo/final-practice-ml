{
  "nbformat": 4,
  "nbformat_minor": 0,
  "metadata": {
    "colab": {
      "name": "Final Practice.ipynb",
      "provenance": [],
      "collapsed_sections": [],
      "toc_visible": true
    },
    "kernelspec": {
      "name": "python3",
      "display_name": "Python 3"
    }
  },
  "cells": [
    {
      "cell_type": "markdown",
      "metadata": {
        "id": "q4sCM-bmwJhm",
        "colab_type": "text"
      },
      "source": [
        "# Requirements"
      ]
    },
    {
      "cell_type": "code",
      "metadata": {
        "id": "adWBN8o94ML7",
        "colab_type": "code",
        "outputId": "b956d693-7e8d-4bf6-ddcb-186151d44852",
        "colab": {
          "base_uri": "https://localhost:8080/",
          "height": 54
        }
      },
      "source": [
        "from google.colab import drive\n",
        "drive.mount('/content/drive')"
      ],
      "execution_count": 156,
      "outputs": [
        {
          "output_type": "stream",
          "text": [
            "Drive already mounted at /content/drive; to attempt to forcibly remount, call drive.mount(\"/content/drive\", force_remount=True).\n"
          ],
          "name": "stdout"
        }
      ]
    },
    {
      "cell_type": "code",
      "metadata": {
        "id": "n2HZ8ZLF4t8Z",
        "colab_type": "code",
        "colab": {}
      },
      "source": [
        "# Imports\n",
        "import pandas as pd\n",
        "import matplotlib.pyplot as plt\n",
        "import seaborn as sns\n",
        "import numpy as np\n",
        "from scipy.stats import norm\n",
        "from sklearn.preprocessing import StandardScaler\n",
        "from scipy import stats\n",
        "import warnings\n",
        "\n",
        "warnings.filterwarnings('ignore') \n",
        "%matplotlib inline"
      ],
      "execution_count": 0,
      "outputs": []
    },
    {
      "cell_type": "code",
      "metadata": {
        "id": "lCCnkOJ3cg_g",
        "colab_type": "code",
        "colab": {}
      },
      "source": [
        "# Global variables\n",
        "city_and_state_separated = False"
      ],
      "execution_count": 0,
      "outputs": []
    },
    {
      "cell_type": "code",
      "metadata": {
        "id": "UcYO9HrccGub",
        "colab_type": "code",
        "colab": {
          "base_uri": "https://localhost:8080/",
          "height": 309
        },
        "outputId": "73e4d7b2-3959-4025-e118-bbf630b42f4a"
      },
      "source": [
        "# Reading dataset\n",
        "data = pd.read_csv('/content/drive/My Drive/Airports2.csv')\n",
        "data.head(5)"
      ],
      "execution_count": 159,
      "outputs": [
        {
          "output_type": "execute_result",
          "data": {
            "text/html": [
              "<div>\n",
              "<style scoped>\n",
              "    .dataframe tbody tr th:only-of-type {\n",
              "        vertical-align: middle;\n",
              "    }\n",
              "\n",
              "    .dataframe tbody tr th {\n",
              "        vertical-align: top;\n",
              "    }\n",
              "\n",
              "    .dataframe thead th {\n",
              "        text-align: right;\n",
              "    }\n",
              "</style>\n",
              "<table border=\"1\" class=\"dataframe\">\n",
              "  <thead>\n",
              "    <tr style=\"text-align: right;\">\n",
              "      <th></th>\n",
              "      <th>Origin_airport</th>\n",
              "      <th>Destination_airport</th>\n",
              "      <th>Origin_city</th>\n",
              "      <th>Destination_city</th>\n",
              "      <th>Passengers</th>\n",
              "      <th>Seats</th>\n",
              "      <th>Flights</th>\n",
              "      <th>Distance</th>\n",
              "      <th>Fly_date</th>\n",
              "      <th>Origin_population</th>\n",
              "      <th>Destination_population</th>\n",
              "      <th>Org_airport_lat</th>\n",
              "      <th>Org_airport_long</th>\n",
              "      <th>Dest_airport_lat</th>\n",
              "      <th>Dest_airport_long</th>\n",
              "    </tr>\n",
              "  </thead>\n",
              "  <tbody>\n",
              "    <tr>\n",
              "      <th>0</th>\n",
              "      <td>MHK</td>\n",
              "      <td>AMW</td>\n",
              "      <td>Manhattan, KS</td>\n",
              "      <td>Ames, IA</td>\n",
              "      <td>21</td>\n",
              "      <td>30</td>\n",
              "      <td>1</td>\n",
              "      <td>254</td>\n",
              "      <td>2008-10-01</td>\n",
              "      <td>122049</td>\n",
              "      <td>86219</td>\n",
              "      <td>39.140999</td>\n",
              "      <td>-96.670799</td>\n",
              "      <td>NaN</td>\n",
              "      <td>NaN</td>\n",
              "    </tr>\n",
              "    <tr>\n",
              "      <th>1</th>\n",
              "      <td>EUG</td>\n",
              "      <td>RDM</td>\n",
              "      <td>Eugene, OR</td>\n",
              "      <td>Bend, OR</td>\n",
              "      <td>41</td>\n",
              "      <td>396</td>\n",
              "      <td>22</td>\n",
              "      <td>103</td>\n",
              "      <td>1990-11-01</td>\n",
              "      <td>284093</td>\n",
              "      <td>76034</td>\n",
              "      <td>44.124599</td>\n",
              "      <td>-123.211998</td>\n",
              "      <td>44.254101</td>\n",
              "      <td>-121.150001</td>\n",
              "    </tr>\n",
              "    <tr>\n",
              "      <th>2</th>\n",
              "      <td>EUG</td>\n",
              "      <td>RDM</td>\n",
              "      <td>Eugene, OR</td>\n",
              "      <td>Bend, OR</td>\n",
              "      <td>88</td>\n",
              "      <td>342</td>\n",
              "      <td>19</td>\n",
              "      <td>103</td>\n",
              "      <td>1990-12-01</td>\n",
              "      <td>284093</td>\n",
              "      <td>76034</td>\n",
              "      <td>44.124599</td>\n",
              "      <td>-123.211998</td>\n",
              "      <td>44.254101</td>\n",
              "      <td>-121.150001</td>\n",
              "    </tr>\n",
              "    <tr>\n",
              "      <th>3</th>\n",
              "      <td>EUG</td>\n",
              "      <td>RDM</td>\n",
              "      <td>Eugene, OR</td>\n",
              "      <td>Bend, OR</td>\n",
              "      <td>11</td>\n",
              "      <td>72</td>\n",
              "      <td>4</td>\n",
              "      <td>103</td>\n",
              "      <td>1990-10-01</td>\n",
              "      <td>284093</td>\n",
              "      <td>76034</td>\n",
              "      <td>44.124599</td>\n",
              "      <td>-123.211998</td>\n",
              "      <td>44.254101</td>\n",
              "      <td>-121.150001</td>\n",
              "    </tr>\n",
              "    <tr>\n",
              "      <th>4</th>\n",
              "      <td>MFR</td>\n",
              "      <td>RDM</td>\n",
              "      <td>Medford, OR</td>\n",
              "      <td>Bend, OR</td>\n",
              "      <td>0</td>\n",
              "      <td>18</td>\n",
              "      <td>1</td>\n",
              "      <td>156</td>\n",
              "      <td>1990-02-01</td>\n",
              "      <td>147300</td>\n",
              "      <td>76034</td>\n",
              "      <td>42.374199</td>\n",
              "      <td>-122.873001</td>\n",
              "      <td>44.254101</td>\n",
              "      <td>-121.150001</td>\n",
              "    </tr>\n",
              "  </tbody>\n",
              "</table>\n",
              "</div>"
            ],
            "text/plain": [
              "  Origin_airport Destination_airport  ... Dest_airport_lat Dest_airport_long\n",
              "0            MHK                 AMW  ...              NaN               NaN\n",
              "1            EUG                 RDM  ...        44.254101       -121.150001\n",
              "2            EUG                 RDM  ...        44.254101       -121.150001\n",
              "3            EUG                 RDM  ...        44.254101       -121.150001\n",
              "4            MFR                 RDM  ...        44.254101       -121.150001\n",
              "\n",
              "[5 rows x 15 columns]"
            ]
          },
          "metadata": {
            "tags": []
          },
          "execution_count": 159
        }
      ]
    },
    {
      "cell_type": "markdown",
      "metadata": {
        "id": "gCDfodCPwgQ0",
        "colab_type": "text"
      },
      "source": [
        "# Exploratory Data Analisys"
      ]
    },
    {
      "cell_type": "code",
      "metadata": {
        "id": "IssoigI0cSJP",
        "colab_type": "code",
        "colab": {
          "base_uri": "https://localhost:8080/",
          "height": 34
        },
        "outputId": "6bd7ccf1-083c-4a18-a543-ac44a5d2d850"
      },
      "source": [
        "# Initial shape\n",
        "data.shape"
      ],
      "execution_count": 160,
      "outputs": [
        {
          "output_type": "execute_result",
          "data": {
            "text/plain": [
              "(3606803, 15)"
            ]
          },
          "metadata": {
            "tags": []
          },
          "execution_count": 160
        }
      ]
    },
    {
      "cell_type": "code",
      "metadata": {
        "id": "bh7h5_VIKRIx",
        "colab_type": "code",
        "colab": {}
      },
      "source": [
        "# Convert to date\n",
        "data['Fly_date'] = pd.to_datetime(data.Fly_date)\n",
        "data.sort_values(by='Fly_date', inplace=True)"
      ],
      "execution_count": 0,
      "outputs": []
    },
    {
      "cell_type": "code",
      "metadata": {
        "id": "9pAi95TgKU3g",
        "colab_type": "code",
        "colab": {}
      },
      "source": [
        "# Add Quantity_seats\n",
        "data['Quantity_seats'] = data['Seats'] / data['Flights']"
      ],
      "execution_count": 0,
      "outputs": []
    },
    {
      "cell_type": "code",
      "metadata": {
        "id": "12XvoKRBJdYL",
        "colab_type": "code",
        "colab": {}
      },
      "source": [
        "# Separating city and state destination\n",
        "if city_and_state_separated == False:\n",
        "  data['Destination_city'], data['Destination_state'] = data['Destination_city'].str.split(',', 1).str\n",
        "  data['Origin_city'], data['Origin_state'] = data['Origin_city'].str.split(',', 1).str\n",
        "  data['Destination_state'] = data['Destination_state'].str.strip()\n",
        "  data['Origin_state'] = data['Origin_state'].str.strip()\n",
        "  city_and_state_separated = True"
      ],
      "execution_count": 0,
      "outputs": []
    },
    {
      "cell_type": "code",
      "metadata": {
        "id": "sHn9wAw782ef",
        "colab_type": "code",
        "colab": {}
      },
      "source": [
        "# Delete flights = 0\n",
        "data = data.drop(data[data['Flights'] == 0].index)"
      ],
      "execution_count": 0,
      "outputs": []
    },
    {
      "cell_type": "code",
      "metadata": {
        "id": "xJY1jIbLLEVP",
        "colab_type": "code",
        "colab": {}
      },
      "source": [
        "# Delete rows that have more than 615 seats per flight, since the plane with the highest passenger capacity = 615\n",
        "data = data.drop(data[data['Quantity_seats'] > 615].index)"
      ],
      "execution_count": 0,
      "outputs": []
    },
    {
      "cell_type": "code",
      "metadata": {
        "id": "DnvDMsWmLJWf",
        "colab_type": "code",
        "colab": {}
      },
      "source": [
        "# Delete flights with seats = 0\n",
        "data = data.drop(data[data['Seats'] == 0].index)"
      ],
      "execution_count": 0,
      "outputs": []
    },
    {
      "cell_type": "code",
      "metadata": {
        "id": "AThjfzWNYwww",
        "colab_type": "code",
        "colab": {}
      },
      "source": [
        "# Delete flights with passengers = 0\n",
        "data = data.drop(data[data['Passengers'] == 0].index)"
      ],
      "execution_count": 0,
      "outputs": []
    },
    {
      "cell_type": "code",
      "metadata": {
        "id": "UqpENIEvLL7f",
        "colab_type": "code",
        "colab": {}
      },
      "source": [
        "# Delete flights with distance = 0\n",
        "data = data.drop(data[data['Distance'] == 0].index)"
      ],
      "execution_count": 0,
      "outputs": []
    },
    {
      "cell_type": "code",
      "metadata": {
        "id": "-fzCMHlmLO3f",
        "colab_type": "code",
        "colab": {}
      },
      "source": [
        "# Delete quantity seats < 1\n",
        "data = data.drop(data[data['Quantity_seats'] < 1].index)"
      ],
      "execution_count": 0,
      "outputs": []
    },
    {
      "cell_type": "code",
      "metadata": {
        "id": "Fn5YgLhPNJFo",
        "colab_type": "code",
        "colab": {
          "base_uri": "https://localhost:8080/",
          "height": 340
        },
        "outputId": "ffac6f96-00f1-4f7e-c2a7-5502687ccf45"
      },
      "source": [
        "# Maximum values of each column\n",
        "data.max()"
      ],
      "execution_count": 170,
      "outputs": [
        {
          "output_type": "execute_result",
          "data": {
            "text/plain": [
              "Origin_airport                            YUM\n",
              "Destination_airport                       YUM\n",
              "Origin_city                              Yuma\n",
              "Destination_city                         Yuma\n",
              "Passengers                              89597\n",
              "Seats                                  147062\n",
              "Flights                                  1128\n",
              "Distance                                 5018\n",
              "Fly_date                  2009-12-01 00:00:00\n",
              "Origin_population                    38139592\n",
              "Destination_population               38139592\n",
              "Org_airport_lat                       64.8375\n",
              "Org_airport_long                     -68.8281\n",
              "Dest_airport_lat                      64.8375\n",
              "Dest_airport_long                    -68.8281\n",
              "Quantity_seats                            613\n",
              "Destination_state                          WY\n",
              "Origin_state                               WY\n",
              "dtype: object"
            ]
          },
          "metadata": {
            "tags": []
          },
          "execution_count": 170
        }
      ]
    },
    {
      "cell_type": "code",
      "metadata": {
        "id": "vgEapd18NQU3",
        "colab_type": "code",
        "colab": {
          "base_uri": "https://localhost:8080/",
          "height": 340
        },
        "outputId": "b7aec459-448e-43ce-bafe-4e8c592fd6fb"
      },
      "source": [
        "# Minimum values of each column\n",
        "data.min()"
      ],
      "execution_count": 171,
      "outputs": [
        {
          "output_type": "execute_result",
          "data": {
            "text/plain": [
              "Origin_airport                            1B1\n",
              "Destination_airport                       1B1\n",
              "Origin_city                          Aberdeen\n",
              "Destination_city                     Aberdeen\n",
              "Passengers                                  1\n",
              "Seats                                       1\n",
              "Flights                                     1\n",
              "Distance                                    2\n",
              "Fly_date                  1990-01-01 00:00:00\n",
              "Origin_population                       13005\n",
              "Destination_population                  13005\n",
              "Org_airport_lat                       19.7214\n",
              "Org_airport_long                     -157.922\n",
              "Dest_airport_lat                      19.7214\n",
              "Dest_airport_long                    -157.922\n",
              "Quantity_seats                              1\n",
              "Destination_state                          AK\n",
              "Origin_state                               AK\n",
              "dtype: object"
            ]
          },
          "metadata": {
            "tags": []
          },
          "execution_count": 171
        }
      ]
    },
    {
      "cell_type": "code",
      "metadata": {
        "id": "ZeSffsfjOTTf",
        "colab_type": "code",
        "colab": {
          "base_uri": "https://localhost:8080/",
          "height": 607
        },
        "outputId": "5743eea8-f5ab-4ea2-bf1e-6eb332a52cbc"
      },
      "source": [
        "# Percentage of null values\n",
        "\n",
        "# Note: as almost all values are 'valid', with the exception of Destination_population column which has \n",
        "# some few null values (0.00003%), so we will not delete any other column. Longitude and latitude are\n",
        "# only used for visualization.\n",
        "\n",
        "total = data.isnull().sum().sort_values(ascending=False)\n",
        "percent = (data.isnull().sum() / data.isnull().count()).sort_values(ascending=False)\n",
        "missing_data = pd.concat([total, percent], axis = 1, keys = ['Total', 'Percent'])\n",
        "missing_data"
      ],
      "execution_count": 172,
      "outputs": [
        {
          "output_type": "execute_result",
          "data": {
            "text/html": [
              "<div>\n",
              "<style scoped>\n",
              "    .dataframe tbody tr th:only-of-type {\n",
              "        vertical-align: middle;\n",
              "    }\n",
              "\n",
              "    .dataframe tbody tr th {\n",
              "        vertical-align: top;\n",
              "    }\n",
              "\n",
              "    .dataframe thead th {\n",
              "        text-align: right;\n",
              "    }\n",
              "</style>\n",
              "<table border=\"1\" class=\"dataframe\">\n",
              "  <thead>\n",
              "    <tr style=\"text-align: right;\">\n",
              "      <th></th>\n",
              "      <th>Total</th>\n",
              "      <th>Percent</th>\n",
              "    </tr>\n",
              "  </thead>\n",
              "  <tbody>\n",
              "    <tr>\n",
              "      <th>Org_airport_long</th>\n",
              "      <td>3564</td>\n",
              "      <td>0.001108</td>\n",
              "    </tr>\n",
              "    <tr>\n",
              "      <th>Org_airport_lat</th>\n",
              "      <td>3564</td>\n",
              "      <td>0.001108</td>\n",
              "    </tr>\n",
              "    <tr>\n",
              "      <th>Dest_airport_long</th>\n",
              "      <td>3496</td>\n",
              "      <td>0.001086</td>\n",
              "    </tr>\n",
              "    <tr>\n",
              "      <th>Dest_airport_lat</th>\n",
              "      <td>3496</td>\n",
              "      <td>0.001086</td>\n",
              "    </tr>\n",
              "    <tr>\n",
              "      <th>Origin_state</th>\n",
              "      <td>0</td>\n",
              "      <td>0.000000</td>\n",
              "    </tr>\n",
              "    <tr>\n",
              "      <th>Flights</th>\n",
              "      <td>0</td>\n",
              "      <td>0.000000</td>\n",
              "    </tr>\n",
              "    <tr>\n",
              "      <th>Destination_airport</th>\n",
              "      <td>0</td>\n",
              "      <td>0.000000</td>\n",
              "    </tr>\n",
              "    <tr>\n",
              "      <th>Origin_city</th>\n",
              "      <td>0</td>\n",
              "      <td>0.000000</td>\n",
              "    </tr>\n",
              "    <tr>\n",
              "      <th>Destination_city</th>\n",
              "      <td>0</td>\n",
              "      <td>0.000000</td>\n",
              "    </tr>\n",
              "    <tr>\n",
              "      <th>Passengers</th>\n",
              "      <td>0</td>\n",
              "      <td>0.000000</td>\n",
              "    </tr>\n",
              "    <tr>\n",
              "      <th>Seats</th>\n",
              "      <td>0</td>\n",
              "      <td>0.000000</td>\n",
              "    </tr>\n",
              "    <tr>\n",
              "      <th>Fly_date</th>\n",
              "      <td>0</td>\n",
              "      <td>0.000000</td>\n",
              "    </tr>\n",
              "    <tr>\n",
              "      <th>Distance</th>\n",
              "      <td>0</td>\n",
              "      <td>0.000000</td>\n",
              "    </tr>\n",
              "    <tr>\n",
              "      <th>Destination_state</th>\n",
              "      <td>0</td>\n",
              "      <td>0.000000</td>\n",
              "    </tr>\n",
              "    <tr>\n",
              "      <th>Origin_population</th>\n",
              "      <td>0</td>\n",
              "      <td>0.000000</td>\n",
              "    </tr>\n",
              "    <tr>\n",
              "      <th>Destination_population</th>\n",
              "      <td>0</td>\n",
              "      <td>0.000000</td>\n",
              "    </tr>\n",
              "    <tr>\n",
              "      <th>Quantity_seats</th>\n",
              "      <td>0</td>\n",
              "      <td>0.000000</td>\n",
              "    </tr>\n",
              "    <tr>\n",
              "      <th>Origin_airport</th>\n",
              "      <td>0</td>\n",
              "      <td>0.000000</td>\n",
              "    </tr>\n",
              "  </tbody>\n",
              "</table>\n",
              "</div>"
            ],
            "text/plain": [
              "                        Total   Percent\n",
              "Org_airport_long         3564  0.001108\n",
              "Org_airport_lat          3564  0.001108\n",
              "Dest_airport_long        3496  0.001086\n",
              "Dest_airport_lat         3496  0.001086\n",
              "Origin_state                0  0.000000\n",
              "Flights                     0  0.000000\n",
              "Destination_airport         0  0.000000\n",
              "Origin_city                 0  0.000000\n",
              "Destination_city            0  0.000000\n",
              "Passengers                  0  0.000000\n",
              "Seats                       0  0.000000\n",
              "Fly_date                    0  0.000000\n",
              "Distance                    0  0.000000\n",
              "Destination_state           0  0.000000\n",
              "Origin_population           0  0.000000\n",
              "Destination_population      0  0.000000\n",
              "Quantity_seats              0  0.000000\n",
              "Origin_airport              0  0.000000"
            ]
          },
          "metadata": {
            "tags": []
          },
          "execution_count": 172
        }
      ]
    },
    {
      "cell_type": "markdown",
      "metadata": {
        "id": "Mt_Xs6_BOSsQ",
        "colab_type": "text"
      },
      "source": [
        "### **Column description**\n",
        "\n",
        "**Origin_airport**: Three letter airport code of the origin airport\n",
        "\n",
        "**Destination_airport**: Three letter airport code of the destination airport\n",
        "\n",
        "**Origin_city**: Origin city name\n",
        "\n",
        "**Destination_city**: Destination city name\n",
        "\n",
        "**Origin_state**: Origin state acronym\n",
        "\n",
        "**Destination_state**: Destination state acronym\n",
        "\n",
        "**Passengers**: Number of passengers transported from origin to destination\n",
        "\n",
        "**Seats**: Number of seats available on flights from origin to destination\n",
        "\n",
        "**Flights**: Number of flights between origin and destination (multiple records for one month, many with flights > 1)\n",
        "\n",
        "**Distance**: Distance (to nearest mile) flown between origin and destination\n",
        "\n",
        "**Fly_date**: The date (yyyymm) of flight\n",
        "\n",
        "**Origin_population**: Origin city's population as reported by US Census\n",
        "\n",
        "**Destination_population**: Destination city's population as reported by US Census\n",
        "\n",
        "**Quantity_seats**: Quantity of seats"
      ]
    },
    {
      "cell_type": "markdown",
      "metadata": {
        "id": "NY5HzIjNw1o8",
        "colab_type": "text"
      },
      "source": [
        "# Data Visualisation"
      ]
    },
    {
      "cell_type": "code",
      "metadata": {
        "id": "hd2z7tb0QgIs",
        "colab_type": "code",
        "colab": {
          "base_uri": "https://localhost:8080/",
          "height": 542
        },
        "outputId": "28e16495-ef57-4a99-cf2e-9eaed33763d2"
      },
      "source": [
        "# States with most incoming passanger quantity in 2009\n",
        "import plotly.graph_objects as go\n",
        "\n",
        "result = data[data['Fly_date'].dt.year == 2009]\n",
        "result = data.groupby('Destination_state').agg({'Passengers': sum})\n",
        "result = result.reset_index()\n",
        "\n",
        "fig = go.Figure(data=go.Choropleth(\n",
        "    locations=result['Destination_state'],\n",
        "    z=result['Passengers'],\n",
        "    locationmode='USA-states',\n",
        "    colorbar_title='Passengers',\n",
        "))\n",
        "\n",
        "fig.update_layout(\n",
        "    title_text='Most destination States',\n",
        "    geo_scope='usa',\n",
        ")\n",
        "\n",
        "fig.show()"
      ],
      "execution_count": 173,
      "outputs": [
        {
          "output_type": "display_data",
          "data": {
            "text/html": [
              "<html>\n",
              "<head><meta charset=\"utf-8\" /></head>\n",
              "<body>\n",
              "    <div>\n",
              "            <script src=\"https://cdnjs.cloudflare.com/ajax/libs/mathjax/2.7.5/MathJax.js?config=TeX-AMS-MML_SVG\"></script><script type=\"text/javascript\">if (window.MathJax) {MathJax.Hub.Config({SVG: {font: \"STIX-Web\"}});}</script>\n",
              "                <script type=\"text/javascript\">window.PlotlyConfig = {MathJaxConfig: 'local'};</script>\n",
              "        <script src=\"https://cdn.plot.ly/plotly-latest.min.js\"></script>    \n",
              "            <div id=\"638bbe2e-1c14-4b0e-aeff-de485ca360a6\" class=\"plotly-graph-div\" style=\"height:525px; width:100%;\"></div>\n",
              "            <script type=\"text/javascript\">\n",
              "                \n",
              "                    window.PLOTLYENV=window.PLOTLYENV || {};\n",
              "                    \n",
              "                if (document.getElementById(\"638bbe2e-1c14-4b0e-aeff-de485ca360a6\")) {\n",
              "                    Plotly.newPlot(\n",
              "                        '638bbe2e-1c14-4b0e-aeff-de485ca360a6',\n",
              "                        [{\"colorbar\": {\"title\": {\"text\": \"Passengers\"}}, \"locationmode\": \"USA-states\", \"locations\": [\"AK\", \"AL\", \"AR\", \"AZ\", \"CA\", \"CO\", \"CT\", \"DC\", \"DE\", \"FL\", \"GA\", \"HI\", \"IA\", \"ID\", \"IL\", \"IN\", \"KS\", \"KY\", \"LA\", \"MA\", \"MD\", \"ME\", \"MI\", \"MN\", \"MO\", \"MS\", \"MT\", \"NC\", \"ND\", \"NE\", \"NH\", \"NJ\", \"NM\", \"NV\", \"NY\", \"OH\", \"OK\", \"OR\", \"PA\", \"RI\", \"SC\", \"SD\", \"TN\", \"TX\", \"UT\", \"VA\", \"VT\", \"WA\", \"WI\", \"WV\", \"WY\"], \"type\": \"choropleth\", \"z\": [48688564, 50734115, 30501370, 328706708, 1073351384, 18767876, 54871744, 253164018, 28375, 758798590, 599325540, 181604042, 23726505, 3293699, 658912873, 80777040, 11112889, 8915980, 105817719, 191063496, 143043477, 15787564, 292413892, 252230895, 309792122, 19084953, 23464963, 320591282, 9836537, 32426282, 22505150, 215184585, 60483707, 316869056, 447910795, 326232760, 64512243, 112992294, 354406928, 38711848, 49640088, 8179676, 191155787, 1066012853, 152552981, 31445724, 8642739, 242257403, 79989018, 4238869, 3069869]}],\n",
              "                        {\"geo\": {\"scope\": \"usa\"}, \"template\": {\"data\": {\"bar\": [{\"error_x\": {\"color\": \"#2a3f5f\"}, \"error_y\": {\"color\": \"#2a3f5f\"}, \"marker\": {\"line\": {\"color\": \"#E5ECF6\", \"width\": 0.5}}, \"type\": \"bar\"}], \"barpolar\": [{\"marker\": {\"line\": {\"color\": \"#E5ECF6\", \"width\": 0.5}}, \"type\": \"barpolar\"}], \"carpet\": [{\"aaxis\": {\"endlinecolor\": \"#2a3f5f\", \"gridcolor\": \"white\", \"linecolor\": \"white\", \"minorgridcolor\": \"white\", \"startlinecolor\": \"#2a3f5f\"}, \"baxis\": {\"endlinecolor\": \"#2a3f5f\", \"gridcolor\": \"white\", \"linecolor\": \"white\", \"minorgridcolor\": \"white\", \"startlinecolor\": \"#2a3f5f\"}, \"type\": \"carpet\"}], \"choropleth\": [{\"colorbar\": {\"outlinewidth\": 0, \"ticks\": \"\"}, \"type\": \"choropleth\"}], \"contour\": [{\"colorbar\": {\"outlinewidth\": 0, \"ticks\": \"\"}, \"colorscale\": [[0.0, \"#0d0887\"], [0.1111111111111111, \"#46039f\"], [0.2222222222222222, \"#7201a8\"], [0.3333333333333333, \"#9c179e\"], [0.4444444444444444, \"#bd3786\"], [0.5555555555555556, \"#d8576b\"], [0.6666666666666666, \"#ed7953\"], [0.7777777777777778, \"#fb9f3a\"], [0.8888888888888888, \"#fdca26\"], [1.0, \"#f0f921\"]], \"type\": \"contour\"}], \"contourcarpet\": [{\"colorbar\": {\"outlinewidth\": 0, \"ticks\": \"\"}, \"type\": \"contourcarpet\"}], \"heatmap\": [{\"colorbar\": {\"outlinewidth\": 0, \"ticks\": \"\"}, \"colorscale\": [[0.0, \"#0d0887\"], [0.1111111111111111, \"#46039f\"], [0.2222222222222222, \"#7201a8\"], [0.3333333333333333, \"#9c179e\"], [0.4444444444444444, \"#bd3786\"], [0.5555555555555556, \"#d8576b\"], [0.6666666666666666, \"#ed7953\"], [0.7777777777777778, \"#fb9f3a\"], [0.8888888888888888, \"#fdca26\"], [1.0, \"#f0f921\"]], \"type\": \"heatmap\"}], \"heatmapgl\": [{\"colorbar\": {\"outlinewidth\": 0, \"ticks\": \"\"}, \"colorscale\": [[0.0, \"#0d0887\"], [0.1111111111111111, \"#46039f\"], [0.2222222222222222, \"#7201a8\"], [0.3333333333333333, \"#9c179e\"], [0.4444444444444444, \"#bd3786\"], [0.5555555555555556, \"#d8576b\"], [0.6666666666666666, \"#ed7953\"], [0.7777777777777778, \"#fb9f3a\"], [0.8888888888888888, \"#fdca26\"], [1.0, \"#f0f921\"]], \"type\": \"heatmapgl\"}], \"histogram\": [{\"marker\": {\"colorbar\": {\"outlinewidth\": 0, \"ticks\": \"\"}}, \"type\": \"histogram\"}], \"histogram2d\": [{\"colorbar\": {\"outlinewidth\": 0, \"ticks\": \"\"}, \"colorscale\": [[0.0, \"#0d0887\"], [0.1111111111111111, \"#46039f\"], [0.2222222222222222, \"#7201a8\"], [0.3333333333333333, \"#9c179e\"], [0.4444444444444444, \"#bd3786\"], [0.5555555555555556, \"#d8576b\"], [0.6666666666666666, \"#ed7953\"], [0.7777777777777778, \"#fb9f3a\"], [0.8888888888888888, \"#fdca26\"], [1.0, \"#f0f921\"]], \"type\": \"histogram2d\"}], \"histogram2dcontour\": [{\"colorbar\": {\"outlinewidth\": 0, \"ticks\": \"\"}, \"colorscale\": [[0.0, \"#0d0887\"], [0.1111111111111111, \"#46039f\"], [0.2222222222222222, \"#7201a8\"], [0.3333333333333333, \"#9c179e\"], [0.4444444444444444, \"#bd3786\"], [0.5555555555555556, \"#d8576b\"], [0.6666666666666666, \"#ed7953\"], [0.7777777777777778, \"#fb9f3a\"], [0.8888888888888888, \"#fdca26\"], [1.0, \"#f0f921\"]], \"type\": \"histogram2dcontour\"}], \"mesh3d\": [{\"colorbar\": {\"outlinewidth\": 0, \"ticks\": \"\"}, \"type\": \"mesh3d\"}], \"parcoords\": [{\"line\": {\"colorbar\": {\"outlinewidth\": 0, \"ticks\": \"\"}}, \"type\": \"parcoords\"}], \"scatter\": [{\"marker\": {\"colorbar\": {\"outlinewidth\": 0, \"ticks\": \"\"}}, \"type\": \"scatter\"}], \"scatter3d\": [{\"line\": {\"colorbar\": {\"outlinewidth\": 0, \"ticks\": \"\"}}, \"marker\": {\"colorbar\": {\"outlinewidth\": 0, \"ticks\": \"\"}}, \"type\": \"scatter3d\"}], \"scattercarpet\": [{\"marker\": {\"colorbar\": {\"outlinewidth\": 0, \"ticks\": \"\"}}, \"type\": \"scattercarpet\"}], \"scattergeo\": [{\"marker\": {\"colorbar\": {\"outlinewidth\": 0, \"ticks\": \"\"}}, \"type\": \"scattergeo\"}], \"scattergl\": [{\"marker\": {\"colorbar\": {\"outlinewidth\": 0, \"ticks\": \"\"}}, \"type\": \"scattergl\"}], \"scattermapbox\": [{\"marker\": {\"colorbar\": {\"outlinewidth\": 0, \"ticks\": \"\"}}, \"type\": \"scattermapbox\"}], \"scatterpolar\": [{\"marker\": {\"colorbar\": {\"outlinewidth\": 0, \"ticks\": \"\"}}, \"type\": \"scatterpolar\"}], \"scatterpolargl\": [{\"marker\": {\"colorbar\": {\"outlinewidth\": 0, \"ticks\": \"\"}}, \"type\": \"scatterpolargl\"}], \"scatterternary\": [{\"marker\": {\"colorbar\": {\"outlinewidth\": 0, \"ticks\": \"\"}}, \"type\": \"scatterternary\"}], \"surface\": [{\"colorbar\": {\"outlinewidth\": 0, \"ticks\": \"\"}, \"colorscale\": [[0.0, \"#0d0887\"], [0.1111111111111111, \"#46039f\"], [0.2222222222222222, \"#7201a8\"], [0.3333333333333333, \"#9c179e\"], [0.4444444444444444, \"#bd3786\"], [0.5555555555555556, \"#d8576b\"], [0.6666666666666666, \"#ed7953\"], [0.7777777777777778, \"#fb9f3a\"], [0.8888888888888888, \"#fdca26\"], [1.0, \"#f0f921\"]], \"type\": \"surface\"}], \"table\": [{\"cells\": {\"fill\": {\"color\": \"#EBF0F8\"}, \"line\": {\"color\": \"white\"}}, \"header\": {\"fill\": {\"color\": \"#C8D4E3\"}, \"line\": {\"color\": \"white\"}}, \"type\": \"table\"}]}, \"layout\": {\"annotationdefaults\": {\"arrowcolor\": \"#2a3f5f\", \"arrowhead\": 0, \"arrowwidth\": 1}, \"colorscale\": {\"diverging\": [[0, \"#8e0152\"], [0.1, \"#c51b7d\"], [0.2, \"#de77ae\"], [0.3, \"#f1b6da\"], [0.4, \"#fde0ef\"], [0.5, \"#f7f7f7\"], [0.6, \"#e6f5d0\"], [0.7, \"#b8e186\"], [0.8, \"#7fbc41\"], [0.9, \"#4d9221\"], [1, \"#276419\"]], \"sequential\": [[0.0, \"#0d0887\"], [0.1111111111111111, \"#46039f\"], [0.2222222222222222, \"#7201a8\"], [0.3333333333333333, \"#9c179e\"], [0.4444444444444444, \"#bd3786\"], [0.5555555555555556, \"#d8576b\"], [0.6666666666666666, \"#ed7953\"], [0.7777777777777778, \"#fb9f3a\"], [0.8888888888888888, \"#fdca26\"], [1.0, \"#f0f921\"]], \"sequentialminus\": [[0.0, \"#0d0887\"], [0.1111111111111111, \"#46039f\"], [0.2222222222222222, \"#7201a8\"], [0.3333333333333333, \"#9c179e\"], [0.4444444444444444, \"#bd3786\"], [0.5555555555555556, \"#d8576b\"], [0.6666666666666666, \"#ed7953\"], [0.7777777777777778, \"#fb9f3a\"], [0.8888888888888888, \"#fdca26\"], [1.0, \"#f0f921\"]]}, \"colorway\": [\"#636efa\", \"#EF553B\", \"#00cc96\", \"#ab63fa\", \"#FFA15A\", \"#19d3f3\", \"#FF6692\", \"#B6E880\", \"#FF97FF\", \"#FECB52\"], \"font\": {\"color\": \"#2a3f5f\"}, \"geo\": {\"bgcolor\": \"white\", \"lakecolor\": \"white\", \"landcolor\": \"#E5ECF6\", \"showlakes\": true, \"showland\": true, \"subunitcolor\": \"white\"}, \"hoverlabel\": {\"align\": \"left\"}, \"hovermode\": \"closest\", \"mapbox\": {\"style\": \"light\"}, \"paper_bgcolor\": \"white\", \"plot_bgcolor\": \"#E5ECF6\", \"polar\": {\"angularaxis\": {\"gridcolor\": \"white\", \"linecolor\": \"white\", \"ticks\": \"\"}, \"bgcolor\": \"#E5ECF6\", \"radialaxis\": {\"gridcolor\": \"white\", \"linecolor\": \"white\", \"ticks\": \"\"}}, \"scene\": {\"xaxis\": {\"backgroundcolor\": \"#E5ECF6\", \"gridcolor\": \"white\", \"gridwidth\": 2, \"linecolor\": \"white\", \"showbackground\": true, \"ticks\": \"\", \"zerolinecolor\": \"white\"}, \"yaxis\": {\"backgroundcolor\": \"#E5ECF6\", \"gridcolor\": \"white\", \"gridwidth\": 2, \"linecolor\": \"white\", \"showbackground\": true, \"ticks\": \"\", \"zerolinecolor\": \"white\"}, \"zaxis\": {\"backgroundcolor\": \"#E5ECF6\", \"gridcolor\": \"white\", \"gridwidth\": 2, \"linecolor\": \"white\", \"showbackground\": true, \"ticks\": \"\", \"zerolinecolor\": \"white\"}}, \"shapedefaults\": {\"line\": {\"color\": \"#2a3f5f\"}}, \"ternary\": {\"aaxis\": {\"gridcolor\": \"white\", \"linecolor\": \"white\", \"ticks\": \"\"}, \"baxis\": {\"gridcolor\": \"white\", \"linecolor\": \"white\", \"ticks\": \"\"}, \"bgcolor\": \"#E5ECF6\", \"caxis\": {\"gridcolor\": \"white\", \"linecolor\": \"white\", \"ticks\": \"\"}}, \"title\": {\"x\": 0.05}, \"xaxis\": {\"automargin\": true, \"gridcolor\": \"white\", \"linecolor\": \"white\", \"ticks\": \"\", \"zerolinecolor\": \"white\", \"zerolinewidth\": 2}, \"yaxis\": {\"automargin\": true, \"gridcolor\": \"white\", \"linecolor\": \"white\", \"ticks\": \"\", \"zerolinecolor\": \"white\", \"zerolinewidth\": 2}}}, \"title\": {\"text\": \"Most destination States\"}},\n",
              "                        {\"responsive\": true}\n",
              "                    ).then(function(){\n",
              "                            \n",
              "var gd = document.getElementById('638bbe2e-1c14-4b0e-aeff-de485ca360a6');\n",
              "var x = new MutationObserver(function (mutations, observer) {{\n",
              "        var display = window.getComputedStyle(gd).display;\n",
              "        if (!display || display === 'none') {{\n",
              "            console.log([gd, 'removed!']);\n",
              "            Plotly.purge(gd);\n",
              "            observer.disconnect();\n",
              "        }}\n",
              "}});\n",
              "\n",
              "// Listen for the removal of the full notebook cells\n",
              "var notebookContainer = gd.closest('#notebook-container');\n",
              "if (notebookContainer) {{\n",
              "    x.observe(notebookContainer, {childList: true});\n",
              "}}\n",
              "\n",
              "// Listen for the clearing of the current output cell\n",
              "var outputEl = gd.closest('.output');\n",
              "if (outputEl) {{\n",
              "    x.observe(outputEl, {childList: true});\n",
              "}}\n",
              "\n",
              "                        })\n",
              "                };\n",
              "                \n",
              "            </script>\n",
              "        </div>\n",
              "</body>\n",
              "</html>"
            ]
          },
          "metadata": {
            "tags": []
          }
        }
      ]
    },
    {
      "cell_type": "code",
      "metadata": {
        "id": "HCi-wDz_XWIc",
        "colab_type": "code",
        "colab": {
          "base_uri": "https://localhost:8080/",
          "height": 307
        },
        "outputId": "443eaea9-9b3e-4359-d896-ce0bcb3f01bf"
      },
      "source": [
        "# Best months for airlines based on passenger quantity \n",
        "result = data.groupby(data['Fly_date'].dt.month).agg({'Passengers': sum})\n",
        "result = result.reset_index()\n",
        "gph = sns.pointplot(x='Fly_date', y='Passengers', data=result)\n",
        "gph.set(xlabel='Month')"
      ],
      "execution_count": 174,
      "outputs": [
        {
          "output_type": "execute_result",
          "data": {
            "text/plain": [
              "[Text(0.5, 0, 'Month')]"
            ]
          },
          "metadata": {
            "tags": []
          },
          "execution_count": 174
        },
        {
          "output_type": "display_data",
          "data": {
            "image/png": "[encoded data removed]",
            "text/plain": [
              "<Figure size 432x288 with 1 Axes>"
            ]
          },
          "metadata": {
            "tags": []
          }
        }
      ]
    },
    {
      "cell_type": "code",
      "metadata": {
        "id": "Hu8IUpCJgQPG",
        "colab_type": "code",
        "colab": {
          "base_uri": "https://localhost:8080/",
          "height": 526
        },
        "outputId": "10254c0e-b318-40ef-bb1f-fb582867adbf"
      },
      "source": [
        "# Corralation matrix\n",
        "corrmat = data.corr()\n",
        "f, ax = plt.subplots(figsize=(6, 9))\n",
        "sns.heatmap(corrmat, vmax=1, square=True);"
      ],
      "execution_count": 175,
      "outputs": [
        {
          "output_type": "display_data",
          "data": {
            "image/png": "[encoded data removed]",
            "text/plain": [
              "<Figure size 432x648 with 2 Axes>"
            ]
          },
          "metadata": {
            "tags": []
          }
        }
      ]
    },
    {
      "cell_type": "code",
      "metadata": {
        "id": "PXP--XQ6rsDZ",
        "colab_type": "code",
        "colab": {
          "base_uri": "https://localhost:8080/",
          "height": 271
        },
        "outputId": "2441c639-ffd5-4ed2-c2e5-219a075ac2dc"
      },
      "source": [
        "# Sorted correlation vector over passengers\n",
        "corrmat = data.corr()\n",
        "corrmat[['Passengers']].sort_values(by='Passengers', ascending=False).style.background_gradient()"
      ],
      "execution_count": 176,
      "outputs": [
        {
          "output_type": "execute_result",
          "data": {
            "text/html": [
              "<style  type=\"text/css\" >\n",
              "    #T_97ec6c92_0a4f_11ea_bd57_0242ac1c0002row0_col0 {\n",
              "            background-color:  #023858;\n",
              "            color:  #f1f1f1;\n",
              "        }    #T_97ec6c92_0a4f_11ea_bd57_0242ac1c0002row1_col0 {\n",
              "            background-color:  #023f64;\n",
              "            color:  #f1f1f1;\n",
              "        }    #T_97ec6c92_0a4f_11ea_bd57_0242ac1c0002row2_col0 {\n",
              "            background-color:  #046299;\n",
              "            color:  #f1f1f1;\n",
              "        }    #T_97ec6c92_0a4f_11ea_bd57_0242ac1c0002row3_col0 {\n",
              "            background-color:  #b8c6e0;\n",
              "            color:  #000000;\n",
              "        }    #T_97ec6c92_0a4f_11ea_bd57_0242ac1c0002row4_col0 {\n",
              "            background-color:  #d1d2e6;\n",
              "            color:  #000000;\n",
              "        }    #T_97ec6c92_0a4f_11ea_bd57_0242ac1c0002row5_col0 {\n",
              "            background-color:  #dad9ea;\n",
              "            color:  #000000;\n",
              "        }    #T_97ec6c92_0a4f_11ea_bd57_0242ac1c0002row6_col0 {\n",
              "            background-color:  #dad9ea;\n",
              "            color:  #000000;\n",
              "        }    #T_97ec6c92_0a4f_11ea_bd57_0242ac1c0002row7_col0 {\n",
              "            background-color:  #fbf3f9;\n",
              "            color:  #000000;\n",
              "        }    #T_97ec6c92_0a4f_11ea_bd57_0242ac1c0002row8_col0 {\n",
              "            background-color:  #fbf3f9;\n",
              "            color:  #000000;\n",
              "        }    #T_97ec6c92_0a4f_11ea_bd57_0242ac1c0002row9_col0 {\n",
              "            background-color:  #fff7fb;\n",
              "            color:  #000000;\n",
              "        }    #T_97ec6c92_0a4f_11ea_bd57_0242ac1c0002row10_col0 {\n",
              "            background-color:  #fff7fb;\n",
              "            color:  #000000;\n",
              "        }</style><table id=\"T_97ec6c92_0a4f_11ea_bd57_0242ac1c0002\" ><thead>    <tr>        <th class=\"blank level0\" ></th>        <th class=\"col_heading level0 col0\" >Passengers</th>    </tr></thead><tbody>\n",
              "                <tr>\n",
              "                        <th id=\"T_97ec6c92_0a4f_11ea_bd57_0242ac1c0002level0_row0\" class=\"row_heading level0 row0\" >Passengers</th>\n",
              "                        <td id=\"T_97ec6c92_0a4f_11ea_bd57_0242ac1c0002row0_col0\" class=\"data row0 col0\" >1</td>\n",
              "            </tr>\n",
              "            <tr>\n",
              "                        <th id=\"T_97ec6c92_0a4f_11ea_bd57_0242ac1c0002level0_row1\" class=\"row_heading level0 row1\" >Seats</th>\n",
              "                        <td id=\"T_97ec6c92_0a4f_11ea_bd57_0242ac1c0002row1_col0\" class=\"data row1 col0\" >0.96846</td>\n",
              "            </tr>\n",
              "            <tr>\n",
              "                        <th id=\"T_97ec6c92_0a4f_11ea_bd57_0242ac1c0002level0_row2\" class=\"row_heading level0 row2\" >Flights</th>\n",
              "                        <td id=\"T_97ec6c92_0a4f_11ea_bd57_0242ac1c0002row2_col0\" class=\"data row2 col0\" >0.808151</td>\n",
              "            </tr>\n",
              "            <tr>\n",
              "                        <th id=\"T_97ec6c92_0a4f_11ea_bd57_0242ac1c0002level0_row3\" class=\"row_heading level0 row3\" >Quantity_seats</th>\n",
              "                        <td id=\"T_97ec6c92_0a4f_11ea_bd57_0242ac1c0002row3_col0\" class=\"data row3 col0\" >0.235494</td>\n",
              "            </tr>\n",
              "            <tr>\n",
              "                        <th id=\"T_97ec6c92_0a4f_11ea_bd57_0242ac1c0002level0_row4\" class=\"row_heading level0 row4\" >Distance</th>\n",
              "                        <td id=\"T_97ec6c92_0a4f_11ea_bd57_0242ac1c0002row4_col0\" class=\"data row4 col0\" >0.150724</td>\n",
              "            </tr>\n",
              "            <tr>\n",
              "                        <th id=\"T_97ec6c92_0a4f_11ea_bd57_0242ac1c0002level0_row5\" class=\"row_heading level0 row5\" >Origin_population</th>\n",
              "                        <td id=\"T_97ec6c92_0a4f_11ea_bd57_0242ac1c0002row5_col0\" class=\"data row5 col0\" >0.105528</td>\n",
              "            </tr>\n",
              "            <tr>\n",
              "                        <th id=\"T_97ec6c92_0a4f_11ea_bd57_0242ac1c0002level0_row6\" class=\"row_heading level0 row6\" >Destination_population</th>\n",
              "                        <td id=\"T_97ec6c92_0a4f_11ea_bd57_0242ac1c0002row6_col0\" class=\"data row6 col0\" >0.102141</td>\n",
              "            </tr>\n",
              "            <tr>\n",
              "                        <th id=\"T_97ec6c92_0a4f_11ea_bd57_0242ac1c0002level0_row7\" class=\"row_heading level0 row7\" >Org_airport_lat</th>\n",
              "                        <td id=\"T_97ec6c92_0a4f_11ea_bd57_0242ac1c0002row7_col0\" class=\"data row7 col0\" >-0.0926801</td>\n",
              "            </tr>\n",
              "            <tr>\n",
              "                        <th id=\"T_97ec6c92_0a4f_11ea_bd57_0242ac1c0002level0_row8\" class=\"row_heading level0 row8\" >Dest_airport_lat</th>\n",
              "                        <td id=\"T_97ec6c92_0a4f_11ea_bd57_0242ac1c0002row8_col0\" class=\"data row8 col0\" >-0.0937943</td>\n",
              "            </tr>\n",
              "            <tr>\n",
              "                        <th id=\"T_97ec6c92_0a4f_11ea_bd57_0242ac1c0002level0_row9\" class=\"row_heading level0 row9\" >Org_airport_long</th>\n",
              "                        <td id=\"T_97ec6c92_0a4f_11ea_bd57_0242ac1c0002row9_col0\" class=\"data row9 col0\" >-0.125493</td>\n",
              "            </tr>\n",
              "            <tr>\n",
              "                        <th id=\"T_97ec6c92_0a4f_11ea_bd57_0242ac1c0002level0_row10\" class=\"row_heading level0 row10\" >Dest_airport_long</th>\n",
              "                        <td id=\"T_97ec6c92_0a4f_11ea_bd57_0242ac1c0002row10_col0\" class=\"data row10 col0\" >-0.126881</td>\n",
              "            </tr>\n",
              "    </tbody></table>"
            ],
            "text/plain": [
              "<pandas.io.formats.style.Styler at 0x7f932f484b00>"
            ]
          },
          "metadata": {
            "tags": []
          },
          "execution_count": 176
        }
      ]
    },
    {
      "cell_type": "markdown",
      "metadata": {
        "id": "Wt3JdZ1ltQXM",
        "colab_type": "text"
      },
      "source": [
        "According to correlation matrix, we only need 'Passengers', 'Seats' and 'Flights' fields."
      ]
    },
    {
      "cell_type": "code",
      "metadata": {
        "id": "faAbfm8QtVBr",
        "colab_type": "code",
        "colab": {
          "base_uri": "https://localhost:8080/",
          "height": 204
        },
        "outputId": "8bccefd8-372f-4962-d148-a092d1663f4b"
      },
      "source": [
        "df = data[['Passengers', 'Seats', 'Flights']]\n",
        "df.head(5)"
      ],
      "execution_count": 177,
      "outputs": [
        {
          "output_type": "execute_result",
          "data": {
            "text/html": [
              "<div>\n",
              "<style scoped>\n",
              "    .dataframe tbody tr th:only-of-type {\n",
              "        vertical-align: middle;\n",
              "    }\n",
              "\n",
              "    .dataframe tbody tr th {\n",
              "        vertical-align: top;\n",
              "    }\n",
              "\n",
              "    .dataframe thead th {\n",
              "        text-align: right;\n",
              "    }\n",
              "</style>\n",
              "<table border=\"1\" class=\"dataframe\">\n",
              "  <thead>\n",
              "    <tr style=\"text-align: right;\">\n",
              "      <th></th>\n",
              "      <th>Passengers</th>\n",
              "      <th>Seats</th>\n",
              "      <th>Flights</th>\n",
              "    </tr>\n",
              "  </thead>\n",
              "  <tbody>\n",
              "    <tr>\n",
              "      <th>730469</th>\n",
              "      <td>1713</td>\n",
              "      <td>4410</td>\n",
              "      <td>30</td>\n",
              "    </tr>\n",
              "    <tr>\n",
              "      <th>448453</th>\n",
              "      <td>1476</td>\n",
              "      <td>4619</td>\n",
              "      <td>31</td>\n",
              "    </tr>\n",
              "    <tr>\n",
              "      <th>1458454</th>\n",
              "      <td>388</td>\n",
              "      <td>2100</td>\n",
              "      <td>21</td>\n",
              "    </tr>\n",
              "    <tr>\n",
              "      <th>448454</th>\n",
              "      <td>1337</td>\n",
              "      <td>3348</td>\n",
              "      <td>31</td>\n",
              "    </tr>\n",
              "    <tr>\n",
              "      <th>448455</th>\n",
              "      <td>2787</td>\n",
              "      <td>4888</td>\n",
              "      <td>52</td>\n",
              "    </tr>\n",
              "  </tbody>\n",
              "</table>\n",
              "</div>"
            ],
            "text/plain": [
              "         Passengers  Seats  Flights\n",
              "730469         1713   4410       30\n",
              "448453         1476   4619       31\n",
              "1458454         388   2100       21\n",
              "448454         1337   3348       31\n",
              "448455         2787   4888       52"
            ]
          },
          "metadata": {
            "tags": []
          },
          "execution_count": 177
        }
      ]
    },
    {
      "cell_type": "markdown",
      "metadata": {
        "id": "Zhzwm7eYtf9r",
        "colab_type": "text"
      },
      "source": [
        "# Normally test"
      ]
    },
    {
      "cell_type": "markdown",
      "metadata": {
        "id": "B30UKi9Suo1v",
        "colab_type": "text"
      },
      "source": [
        "### Passengers Field"
      ]
    },
    {
      "cell_type": "code",
      "metadata": {
        "id": "cq2YKfpsurXg",
        "colab_type": "code",
        "outputId": "c3f4f120-0177-4596-bb85-40dbeac66c29",
        "colab": {
          "base_uri": "https://localhost:8080/",
          "height": 170
        }
      },
      "source": [
        "df['Passengers'].describe()"
      ],
      "execution_count": 178,
      "outputs": [
        {
          "output_type": "execute_result",
          "data": {
            "text/plain": [
              "count    3.217724e+06\n",
              "mean     3.013878e+03\n",
              "std      4.495341e+03\n",
              "min      1.000000e+00\n",
              "25%      2.020000e+02\n",
              "50%      1.542000e+03\n",
              "75%      3.883000e+03\n",
              "max      8.959700e+04\n",
              "Name: Passengers, dtype: float64"
            ]
          },
          "metadata": {
            "tags": []
          },
          "execution_count": 178
        }
      ]
    },
    {
      "cell_type": "code",
      "metadata": {
        "id": "ReFa31BXuyZp",
        "colab_type": "code",
        "outputId": "76b37974-077f-4b31-dc19-5f032e6f2308",
        "colab": {
          "base_uri": "https://localhost:8080/",
          "height": 557
        }
      },
      "source": [
        "sns.distplot(df['Passengers'], fit=norm)\n",
        "fig = plt.figure()\n",
        "res = stats.probplot(df['Passengers'], plot = plt)"
      ],
      "execution_count": 179,
      "outputs": [
        {
          "output_type": "display_data",
          "data": {
            "image/png": "[encoded data removed]",
            "text/plain": [
              "<Figure size 432x288 with 1 Axes>"
            ]
          },
          "metadata": {
            "tags": []
          }
        },
        {
          "output_type": "display_data",
          "data": {
            "image/png": "[encoded data removed]",
            "text/plain": [
              "<Figure size 432x288 with 1 Axes>"
            ]
          },
          "metadata": {
            "tags": []
          }
        }
      ]
    },
    {
      "cell_type": "code",
      "metadata": {
        "id": "Kk9eeLofu_mA",
        "colab_type": "code",
        "outputId": "d2c17b5e-fed2-44e0-e9b9-80afa367ccc2",
        "colab": {
          "base_uri": "https://localhost:8080/",
          "height": 51
        }
      },
      "source": [
        "# Initial kurtosis and skewness\n",
        "print('Skewness: %f' % df['Passengers'].skew())\n",
        "print('Kurtosis: %f' % df['Passengers'].kurt())"
      ],
      "execution_count": 180,
      "outputs": [
        {
          "output_type": "stream",
          "text": [
            "Skewness: 3.806619\n",
            "Kurtosis: 24.555219\n"
          ],
          "name": "stdout"
        }
      ]
    },
    {
      "cell_type": "code",
      "metadata": {
        "id": "aoJ8ZIsXvDh4",
        "colab_type": "code",
        "colab": {}
      },
      "source": [
        "df['Passengers'] = np.log(df['Passengers'])"
      ],
      "execution_count": 0,
      "outputs": []
    },
    {
      "cell_type": "code",
      "metadata": {
        "id": "9K7ueQ7uQijd",
        "colab_type": "code",
        "colab": {
          "base_uri": "https://localhost:8080/",
          "height": 557
        },
        "outputId": "93285903-a5b3-4e5c-b3fd-3a4dcce8e7ab"
      },
      "source": [
        "sns.distplot(df['Passengers'], fit=norm)\n",
        "fig = plt.figure()\n",
        "res = stats.probplot(df['Passengers'], plot = plt)"
      ],
      "execution_count": 182,
      "outputs": [
        {
          "output_type": "display_data",
          "data": {
            "image/png": "[encoded data removed]",
            "text/plain": [
              "<Figure size 432x288 with 1 Axes>"
            ]
          },
          "metadata": {
            "tags": []
          }
        },
        {
          "output_type": "display_data",
          "data": {
            "image/png": "[encoded data removed]",
            "text/plain": [
              "<Figure size 432x288 with 1 Axes>"
            ]
          },
          "metadata": {
            "tags": []
          }
        }
      ]
    },
    {
      "cell_type": "code",
      "metadata": {
        "id": "P3DRsw9Avjh4",
        "colab_type": "code",
        "outputId": "a3542902-ff5e-407a-e737-835e09d460b3",
        "colab": {
          "base_uri": "https://localhost:8080/",
          "height": 51
        }
      },
      "source": [
        "# Final kurtosis and skewness\n",
        "print('Skewness: %f' % df['Passengers'].skew())\n",
        "print('Kurtosis: %f' % df['Passengers'].kurt())"
      ],
      "execution_count": 183,
      "outputs": [
        {
          "output_type": "stream",
          "text": [
            "Skewness: -0.550605\n",
            "Kurtosis: -0.445288\n"
          ],
          "name": "stdout"
        }
      ]
    },
    {
      "cell_type": "markdown",
      "metadata": {
        "id": "4DZS6bazxFFy",
        "colab_type": "text"
      },
      "source": [
        "### Seats Fields"
      ]
    },
    {
      "cell_type": "code",
      "metadata": {
        "id": "aWIdU82DxHl0",
        "colab_type": "code",
        "outputId": "f127fe16-913b-4b7e-8259-1ddc8664d8bb",
        "colab": {
          "base_uri": "https://localhost:8080/",
          "height": 170
        }
      },
      "source": [
        "df['Seats'].describe()"
      ],
      "execution_count": 184,
      "outputs": [
        {
          "output_type": "execute_result",
          "data": {
            "text/plain": [
              "count    3.217724e+06\n",
              "mean     4.534924e+03\n",
              "std      6.395152e+03\n",
              "min      1.000000e+00\n",
              "25%      3.440000e+02\n",
              "50%      2.780000e+03\n",
              "75%      5.917000e+03\n",
              "max      1.470620e+05\n",
              "Name: Seats, dtype: float64"
            ]
          },
          "metadata": {
            "tags": []
          },
          "execution_count": 184
        }
      ]
    },
    {
      "cell_type": "code",
      "metadata": {
        "id": "K-lS1QKRxMcL",
        "colab_type": "code",
        "outputId": "da39fb91-1b57-4cd8-e833-b2130c39cc55",
        "colab": {
          "base_uri": "https://localhost:8080/",
          "height": 557
        }
      },
      "source": [
        "sns.distplot(df['Seats'], fit=norm)\n",
        "fig = plt.figure()\n",
        "res = stats.probplot(df['Seats'], plot = plt)"
      ],
      "execution_count": 185,
      "outputs": [
        {
          "output_type": "display_data",
          "data": {
            "image/png": "[encoded data removed]",
            "text/plain": [
              "<Figure size 432x288 with 1 Axes>"
            ]
          },
          "metadata": {
            "tags": []
          }
        },
        {
          "output_type": "display_data",
          "data": {
            "image/png": "[encoded data removed]",
            "text/plain": [
              "<Figure size 432x288 with 1 Axes>"
            ]
          },
          "metadata": {
            "tags": []
          }
        }
      ]
    },
    {
      "cell_type": "code",
      "metadata": {
        "id": "zORwSF9uxUFj",
        "colab_type": "code",
        "outputId": "9c572ef4-c73f-48ee-971c-8d741750f996",
        "colab": {
          "base_uri": "https://localhost:8080/",
          "height": 51
        }
      },
      "source": [
        "# Initial kurtosis and skewness\n",
        "print('Skewness: %f' % df['Seats'].skew())\n",
        "print('Kurtosis: %f' % df['Seats'].kurt())"
      ],
      "execution_count": 186,
      "outputs": [
        {
          "output_type": "stream",
          "text": [
            "Skewness: 3.958589\n",
            "Kurtosis: 29.359281\n"
          ],
          "name": "stdout"
        }
      ]
    },
    {
      "cell_type": "code",
      "metadata": {
        "id": "q_8Q48-uy9aY",
        "colab_type": "code",
        "colab": {}
      },
      "source": [
        "df['Seats'] = np.log(df['Seats'])"
      ],
      "execution_count": 0,
      "outputs": []
    },
    {
      "cell_type": "code",
      "metadata": {
        "id": "ZUZ9LXvYzDYX",
        "colab_type": "code",
        "outputId": "c5f7506c-e463-46a0-e09b-a57f10825943",
        "colab": {
          "base_uri": "https://localhost:8080/",
          "height": 557
        }
      },
      "source": [
        "sns.distplot(df['Seats'], fit=norm)\n",
        "fig = plt.figure()\n",
        "res = stats.probplot(df['Seats'], plot = plt)"
      ],
      "execution_count": 188,
      "outputs": [
        {
          "output_type": "display_data",
          "data": {
            "image/png": "[encoded data removed]",
            "text/plain": [
              "<Figure size 432x288 with 1 Axes>"
            ]
          },
          "metadata": {
            "tags": []
          }
        },
        {
          "output_type": "display_data",
          "data": {
            "image/png": "[encoded data removed]",
            "text/plain": [
              "<Figure size 432x288 with 1 Axes>"
            ]
          },
          "metadata": {
            "tags": []
          }
        }
      ]
    },
    {
      "cell_type": "code",
      "metadata": {
        "id": "rQ0K9o21Q8cJ",
        "colab_type": "code",
        "colab": {
          "base_uri": "https://localhost:8080/",
          "height": 51
        },
        "outputId": "72e0676f-9485-4329-a43f-68d8aabd22bd"
      },
      "source": [
        "# Final kurtosis and skewness\n",
        "print('Skewness: %f' % df['Seats'].skew())\n",
        "print('Kurtosis: %f' % df['Seats'].kurt())"
      ],
      "execution_count": 189,
      "outputs": [
        {
          "output_type": "stream",
          "text": [
            "Skewness: -0.463066\n",
            "Kurtosis: -0.871063\n"
          ],
          "name": "stdout"
        }
      ]
    },
    {
      "cell_type": "markdown",
      "metadata": {
        "id": "Qjs6U5MRz5vL",
        "colab_type": "text"
      },
      "source": [
        "### Flights Field"
      ]
    },
    {
      "cell_type": "code",
      "metadata": {
        "id": "GU4lMWWjz8t2",
        "colab_type": "code",
        "outputId": "aa3ae820-77f8-416f-d34c-3dbb2ca68ce0",
        "colab": {
          "base_uri": "https://localhost:8080/",
          "height": 170
        }
      },
      "source": [
        "df['Flights'].describe()"
      ],
      "execution_count": 190,
      "outputs": [
        {
          "output_type": "execute_result",
          "data": {
            "text/plain": [
              "count    3.217724e+06\n",
              "mean     4.063106e+01\n",
              "std      5.130158e+01\n",
              "min      1.000000e+00\n",
              "25%      3.000000e+00\n",
              "50%      2.800000e+01\n",
              "75%      5.800000e+01\n",
              "max      1.128000e+03\n",
              "Name: Flights, dtype: float64"
            ]
          },
          "metadata": {
            "tags": []
          },
          "execution_count": 190
        }
      ]
    },
    {
      "cell_type": "code",
      "metadata": {
        "id": "tF64wL0p0Dwt",
        "colab_type": "code",
        "outputId": "dbd4f732-d8f4-42b1-c452-202269b93afc",
        "colab": {
          "base_uri": "https://localhost:8080/",
          "height": 557
        }
      },
      "source": [
        "sns.distplot(df['Flights'], fit=norm)\n",
        "fig = plt.figure()\n",
        "res = stats.probplot(df['Flights'], plot = plt)"
      ],
      "execution_count": 191,
      "outputs": [
        {
          "output_type": "display_data",
          "data": {
            "image/png": "[encoded data removed]",
            "text/plain": [
              "<Figure size 432x288 with 1 Axes>"
            ]
          },
          "metadata": {
            "tags": []
          }
        },
        {
          "output_type": "display_data",
          "data": {
            "image/png": "[encoded data removed]",
            "text/plain": [
              "<Figure size 432x288 with 1 Axes>"
            ]
          },
          "metadata": {
            "tags": []
          }
        }
      ]
    },
    {
      "cell_type": "code",
      "metadata": {
        "id": "u65KRv50RDSI",
        "colab_type": "code",
        "colab": {
          "base_uri": "https://localhost:8080/",
          "height": 51
        },
        "outputId": "641ff5fc-c49f-44a0-f45c-4a05c3bd8d2f"
      },
      "source": [
        "# Initial kurtosis and skewness\n",
        "print('Skewness: %f' % df['Flights'].skew())\n",
        "print('Kurtosis: %f' % df['Flights'].kurt())"
      ],
      "execution_count": 192,
      "outputs": [
        {
          "output_type": "stream",
          "text": [
            "Skewness: 3.414242\n",
            "Kurtosis: 24.463164\n"
          ],
          "name": "stdout"
        }
      ]
    },
    {
      "cell_type": "code",
      "metadata": {
        "id": "7oEPDDcX0ycl",
        "colab_type": "code",
        "colab": {}
      },
      "source": [
        "df['Flights'] = np.log(df['Flights'])"
      ],
      "execution_count": 0,
      "outputs": []
    },
    {
      "cell_type": "code",
      "metadata": {
        "id": "y-BfM-Qa03q-",
        "colab_type": "code",
        "outputId": "4d991521-899e-44fd-c333-91e5255b53ef",
        "colab": {
          "base_uri": "https://localhost:8080/",
          "height": 557
        }
      },
      "source": [
        "sns.distplot(df['Flights'], fit=norm)\n",
        "fig = plt.figure()\n",
        "res = stats.probplot(df['Flights'], plot = plt)"
      ],
      "execution_count": 194,
      "outputs": [
        {
          "output_type": "display_data",
          "data": {
            "image/png": "[encoded data removed]",
            "text/plain": [
              "<Figure size 432x288 with 1 Axes>"
            ]
          },
          "metadata": {
            "tags": []
          }
        },
        {
          "output_type": "display_data",
          "data": {
            "image/png": "[encoded data removed]",
            "text/plain": [
              "<Figure size 432x288 with 1 Axes>"
            ]
          },
          "metadata": {
            "tags": []
          }
        }
      ]
    },
    {
      "cell_type": "code",
      "metadata": {
        "id": "Uxx5S8cVRIl3",
        "colab_type": "code",
        "colab": {
          "base_uri": "https://localhost:8080/",
          "height": 51
        },
        "outputId": "4451c426-6e4c-434a-f94d-0db579a3757e"
      },
      "source": [
        "# Final kurtosis and skewness\n",
        "print('Skewness: %f' % df['Flights'].skew())\n",
        "print('Kurtosis: %f' % df['Flights'].kurt())"
      ],
      "execution_count": 195,
      "outputs": [
        {
          "output_type": "stream",
          "text": [
            "Skewness: -0.476492\n",
            "Kurtosis: -1.107593\n"
          ],
          "name": "stdout"
        }
      ]
    },
    {
      "cell_type": "markdown",
      "metadata": {
        "id": "YEjNjpnq1Kg5",
        "colab_type": "text"
      },
      "source": [
        "# Machine Learning Models"
      ]
    },
    {
      "cell_type": "code",
      "metadata": {
        "id": "Y6fs3ivl1OO9",
        "colab_type": "code",
        "colab": {}
      },
      "source": [
        "# Splitting dataset into test and train sets\n",
        "from sklearn.model_selection import train_test_split\n",
        "\n",
        "Y = df['Passengers'].values\n",
        "X = df.drop(labels=['Passengers'], axis = 1)\n",
        "X_train, X_test, y_train, y_test = train_test_split(X, Y, test_size=0.2, random_state=101)"
      ],
      "execution_count": 0,
      "outputs": []
    },
    {
      "cell_type": "markdown",
      "metadata": {
        "id": "7Cd8Xyg3SbzP",
        "colab_type": "text"
      },
      "source": [
        "### Linear Regression"
      ]
    },
    {
      "cell_type": "code",
      "metadata": {
        "id": "XqmJnv6G3vEe",
        "colab_type": "code",
        "outputId": "66042b2f-1df7-42ad-a627-a0baa40b953d",
        "colab": {
          "base_uri": "https://localhost:8080/",
          "height": 34
        }
      },
      "source": [
        "# Training\n",
        "from sklearn.linear_model import LinearRegression\n",
        "\n",
        "regressor = LinearRegression()  \n",
        "regressor.fit(X_train, y_train)"
      ],
      "execution_count": 197,
      "outputs": [
        {
          "output_type": "execute_result",
          "data": {
            "text/plain": [
              "LinearRegression(copy_X=True, fit_intercept=True, n_jobs=None, normalize=False)"
            ]
          },
          "metadata": {
            "tags": []
          },
          "execution_count": 197
        }
      ]
    },
    {
      "cell_type": "code",
      "metadata": {
        "id": "LXf2GIwL3yEe",
        "colab_type": "code",
        "outputId": "a245c166-567f-4d66-f2da-8c34128c8546",
        "colab": {
          "base_uri": "https://localhost:8080/",
          "height": 359
        }
      },
      "source": [
        "# Predicting\n",
        "y_pred = regressor.predict(X_test)\n",
        "result = pd.DataFrame({'Actual': y_test, 'Predicted': y_pred})\n",
        "result.head(10)"
      ],
      "execution_count": 198,
      "outputs": [
        {
          "output_type": "execute_result",
          "data": {
            "text/html": [
              "<div>\n",
              "<style scoped>\n",
              "    .dataframe tbody tr th:only-of-type {\n",
              "        vertical-align: middle;\n",
              "    }\n",
              "\n",
              "    .dataframe tbody tr th {\n",
              "        vertical-align: top;\n",
              "    }\n",
              "\n",
              "    .dataframe thead th {\n",
              "        text-align: right;\n",
              "    }\n",
              "</style>\n",
              "<table border=\"1\" class=\"dataframe\">\n",
              "  <thead>\n",
              "    <tr style=\"text-align: right;\">\n",
              "      <th></th>\n",
              "      <th>Actual</th>\n",
              "      <th>Predicted</th>\n",
              "    </tr>\n",
              "  </thead>\n",
              "  <tbody>\n",
              "    <tr>\n",
              "      <th>0</th>\n",
              "      <td>8.904359</td>\n",
              "      <td>8.942728</td>\n",
              "    </tr>\n",
              "    <tr>\n",
              "      <th>1</th>\n",
              "      <td>8.986071</td>\n",
              "      <td>9.255362</td>\n",
              "    </tr>\n",
              "    <tr>\n",
              "      <th>2</th>\n",
              "      <td>8.359837</td>\n",
              "      <td>8.636616</td>\n",
              "    </tr>\n",
              "    <tr>\n",
              "      <th>3</th>\n",
              "      <td>8.156797</td>\n",
              "      <td>7.879562</td>\n",
              "    </tr>\n",
              "    <tr>\n",
              "      <th>4</th>\n",
              "      <td>8.334472</td>\n",
              "      <td>8.081926</td>\n",
              "    </tr>\n",
              "    <tr>\n",
              "      <th>5</th>\n",
              "      <td>7.901007</td>\n",
              "      <td>7.899350</td>\n",
              "    </tr>\n",
              "    <tr>\n",
              "      <th>6</th>\n",
              "      <td>8.528924</td>\n",
              "      <td>8.252882</td>\n",
              "    </tr>\n",
              "    <tr>\n",
              "      <th>7</th>\n",
              "      <td>7.154615</td>\n",
              "      <td>6.762207</td>\n",
              "    </tr>\n",
              "    <tr>\n",
              "      <th>8</th>\n",
              "      <td>4.418841</td>\n",
              "      <td>5.177008</td>\n",
              "    </tr>\n",
              "    <tr>\n",
              "      <th>9</th>\n",
              "      <td>8.217169</td>\n",
              "      <td>7.871686</td>\n",
              "    </tr>\n",
              "  </tbody>\n",
              "</table>\n",
              "</div>"
            ],
            "text/plain": [
              "     Actual  Predicted\n",
              "0  8.904359   8.942728\n",
              "1  8.986071   9.255362\n",
              "2  8.359837   8.636616\n",
              "3  8.156797   7.879562\n",
              "4  8.334472   8.081926\n",
              "5  7.901007   7.899350\n",
              "6  8.528924   8.252882\n",
              "7  7.154615   6.762207\n",
              "8  4.418841   5.177008\n",
              "9  8.217169   7.871686"
            ]
          },
          "metadata": {
            "tags": []
          },
          "execution_count": 198
        }
      ]
    },
    {
      "cell_type": "code",
      "metadata": {
        "id": "Ou4BARJ-4U9C",
        "colab_type": "code",
        "outputId": "3b4cef5f-005a-4305-c5f7-4e55a3633bcf",
        "colab": {
          "base_uri": "https://localhost:8080/",
          "height": 51
        }
      },
      "source": [
        "# Predicting score\n",
        "\n",
        "print ('Score with test data set: ', regressor.score(X_test, y_test))\n",
        "print ('Score with train data set: ', regressor.score(X_train, y_train))"
      ],
      "execution_count": 199,
      "outputs": [
        {
          "output_type": "stream",
          "text": [
            "Score with test data set:  0.9409696542340975\n",
            "Score with train data set:  0.9410775145364314\n"
          ],
          "name": "stdout"
        }
      ]
    },
    {
      "cell_type": "markdown",
      "metadata": {
        "id": "Vz7cHy0PSgSh",
        "colab_type": "text"
      },
      "source": [
        "### Decision Tree: Random Forests"
      ]
    },
    {
      "cell_type": "code",
      "metadata": {
        "id": "nHVnU97uVA22",
        "colab_type": "code",
        "colab": {
          "base_uri": "https://localhost:8080/",
          "height": 34
        },
        "outputId": "c6dfa473-6877-4fc1-ec4e-35215cd9ac4f"
      },
      "source": [
        "# Training\n",
        "from sklearn.preprocessing import PolynomialFeatures \n",
        "  \n",
        "regressor = PolynomialFeatures(degree=2) \n",
        "X_poly_train = regressor.fit_transform(X_train)\n",
        "  \n",
        "regressor.fit(X_poly_train, y_train) \n",
        "lin2 = LinearRegression() \n",
        "lin2.fit(X_poly_train, y_train) "
      ],
      "execution_count": 200,
      "outputs": [
        {
          "output_type": "execute_result",
          "data": {
            "text/plain": [
              "LinearRegression(copy_X=True, fit_intercept=True, n_jobs=None, normalize=False)"
            ]
          },
          "metadata": {
            "tags": []
          },
          "execution_count": 200
        }
      ]
    },
    {
      "cell_type": "code",
      "metadata": {
        "id": "wSSWCUj3VQ1s",
        "colab_type": "code",
        "colab": {
          "base_uri": "https://localhost:8080/",
          "height": 359
        },
        "outputId": "0e58cdc7-6442-4fc1-b276-6f8931482432"
      },
      "source": [
        "X_poly_test = regressor.fit_transform(X_test)\n",
        "y_pred = lin2.predict(X_poly_test)\n",
        "result = pd.DataFrame({'Actual': y_test, 'Predicted': y_pred})\n",
        "result.head(10)"
      ],
      "execution_count": 201,
      "outputs": [
        {
          "output_type": "execute_result",
          "data": {
            "text/html": [
              "<div>\n",
              "<style scoped>\n",
              "    .dataframe tbody tr th:only-of-type {\n",
              "        vertical-align: middle;\n",
              "    }\n",
              "\n",
              "    .dataframe tbody tr th {\n",
              "        vertical-align: top;\n",
              "    }\n",
              "\n",
              "    .dataframe thead th {\n",
              "        text-align: right;\n",
              "    }\n",
              "</style>\n",
              "<table border=\"1\" class=\"dataframe\">\n",
              "  <thead>\n",
              "    <tr style=\"text-align: right;\">\n",
              "      <th></th>\n",
              "      <th>Actual</th>\n",
              "      <th>Predicted</th>\n",
              "    </tr>\n",
              "  </thead>\n",
              "  <tbody>\n",
              "    <tr>\n",
              "      <th>0</th>\n",
              "      <td>8.904359</td>\n",
              "      <td>8.968539</td>\n",
              "    </tr>\n",
              "    <tr>\n",
              "      <th>1</th>\n",
              "      <td>8.986071</td>\n",
              "      <td>9.302025</td>\n",
              "    </tr>\n",
              "    <tr>\n",
              "      <th>2</th>\n",
              "      <td>8.359837</td>\n",
              "      <td>8.647707</td>\n",
              "    </tr>\n",
              "    <tr>\n",
              "      <th>3</th>\n",
              "      <td>8.156797</td>\n",
              "      <td>7.881095</td>\n",
              "    </tr>\n",
              "    <tr>\n",
              "      <th>4</th>\n",
              "      <td>8.334472</td>\n",
              "      <td>8.096660</td>\n",
              "    </tr>\n",
              "    <tr>\n",
              "      <th>5</th>\n",
              "      <td>7.901007</td>\n",
              "      <td>7.895424</td>\n",
              "    </tr>\n",
              "    <tr>\n",
              "      <th>6</th>\n",
              "      <td>8.528924</td>\n",
              "      <td>8.221377</td>\n",
              "    </tr>\n",
              "    <tr>\n",
              "      <th>7</th>\n",
              "      <td>7.154615</td>\n",
              "      <td>6.764028</td>\n",
              "    </tr>\n",
              "    <tr>\n",
              "      <th>8</th>\n",
              "      <td>4.418841</td>\n",
              "      <td>5.023687</td>\n",
              "    </tr>\n",
              "    <tr>\n",
              "      <th>9</th>\n",
              "      <td>8.217169</td>\n",
              "      <td>7.873898</td>\n",
              "    </tr>\n",
              "  </tbody>\n",
              "</table>\n",
              "</div>"
            ],
            "text/plain": [
              "     Actual  Predicted\n",
              "0  8.904359   8.968539\n",
              "1  8.986071   9.302025\n",
              "2  8.359837   8.647707\n",
              "3  8.156797   7.881095\n",
              "4  8.334472   8.096660\n",
              "5  7.901007   7.895424\n",
              "6  8.528924   8.221377\n",
              "7  7.154615   6.764028\n",
              "8  4.418841   5.023687\n",
              "9  8.217169   7.873898"
            ]
          },
          "metadata": {
            "tags": []
          },
          "execution_count": 201
        }
      ]
    },
    {
      "cell_type": "code",
      "metadata": {
        "id": "VgnuLthTaKS2",
        "colab_type": "code",
        "colab": {
          "base_uri": "https://localhost:8080/",
          "height": 51
        },
        "outputId": "fe516af9-2dd4-45ef-b9c6-53692c5fe276"
      },
      "source": [
        "print ('Score with test data set: ', lin2.score(X_poly_test, y_test))\n",
        "print ('Score with train data set: ', lin2.score(X_poly_train, y_train))"
      ],
      "execution_count": 202,
      "outputs": [
        {
          "output_type": "stream",
          "text": [
            "Score with test data set:  0.9416626036835528\n",
            "Score with train data set:  0.9417910825439932\n"
          ],
          "name": "stdout"
        }
      ]
    },
    {
      "cell_type": "markdown",
      "metadata": {
        "id": "FKchg3oqd4_R",
        "colab_type": "text"
      },
      "source": [
        "As you can see the models applied are similar, as we are dealing with a regression. Both, the linear and non linear model have a good score since our exercise is very simple and there are no much fields to evaluate. For this example, we could use both algorithm."
      ]
    },
    {
      "cell_type": "code",
      "metadata": {
        "id": "ztoTxJWreff8",
        "colab_type": "code",
        "colab": {}
      },
      "source": [
        ""
      ],
      "execution_count": 0,
      "outputs": []
    }
  ]
}